{
 "cells": [
  {
   "cell_type": "code",
   "execution_count": null,
   "metadata": {
    "colab": {
     "base_uri": "https://localhost:8080/"
    },
    "id": "l2y8SSwFL7aS",
    "outputId": "40d5f975-72d8-445e-c989-ca378788cce7"
   },
   "outputs": [
    {
     "name": "stdout",
     "output_type": "stream",
     "text": [
      "\u001b[K     |████████████████████████████████| 5.8 MB 14.8 MB/s \n",
      "\u001b[K     |████████████████████████████████| 7.6 MB 34.6 MB/s \n",
      "\u001b[K     |████████████████████████████████| 182 kB 77.9 MB/s \n",
      "\u001b[?25h"
     ]
    }
   ],
   "source": [
    "!pip install transformers -q"
   ]
  },
  {
   "cell_type": "markdown",
   "metadata": {
    "id": "91FedSxFMSsP"
   },
   "source": [
    "### Required Libraries"
   ]
  },
  {
   "cell_type": "code",
   "execution_count": null,
   "metadata": {
    "id": "fW0Cs-w3MP9B"
   },
   "outputs": [],
   "source": [
    "import pandas as pd\n",
    "import numpy as np\n",
    "import matplotlib.pyplot as plt\n",
    "import seaborn as sns\n",
    "\n",
    "import torch\n",
    "import torch.nn as nn\n",
    "from torch.utils.data import Dataset, DataLoader\n",
    "\n",
    "from tqdm import tqdm\n",
    "\n",
    "import transformers\n",
    "from transformers import AdamW, get_linear_schedule_with_warmup\n",
    "\n",
    "from sklearn.model_selection import train_test_split\n",
    "from sklearn import metrics\n",
    "\n",
    "from collections import defaultdict\n",
    "\n",
    "import warnings\n",
    "warnings.filterwarnings('ignore')"
   ]
  },
  {
   "cell_type": "code",
   "execution_count": null,
   "metadata": {
    "id": "lHdCzlO-ZL9m"
   },
   "outputs": [],
   "source": [
    "!gdown --id 1qaw9jL-KpuSsjeP3K_2hc2mkrn9bdGJN -q\n",
    "!unzip \"IMDB Dataset.csv.zip\""
   ]
  },
  {
   "cell_type": "code",
   "execution_count": null,
   "metadata": {
    "id": "yyqNqO1_O_wq"
   },
   "outputs": [],
   "source": [
    "df = pd.read_csv(\"IMDB Dataset.csv\")"
   ]
  },
  {
   "cell_type": "code",
   "execution_count": null,
   "metadata": {
    "id": "x-j7vZbhvAXB"
   },
   "outputs": [],
   "source": [
    "df = pd.DataFrame({\n",
    "    \"review\": [\"hello worls\", \"mm kk world\", \"kmm state\"],\n",
    "    \"sentiment\": [\"positive\", \"negative\", \"positive\"],\n",
    "})\n",
    "\n",
    "df.to_csv(\"IMDB Dataset.csv\")"
   ]
  },
  {
   "cell_type": "code",
   "execution_count": null,
   "metadata": {
    "id": "VYqDIKEgO-kF"
   },
   "outputs": [],
   "source": [
    "def plot_tokens_count(df: pd.DataFrame, colmun_name:str):\n",
    "  token_lens = []\n",
    "  for text in df[f\"{colmun_name}\"]:\n",
    "    token_lens.append(len(text.split()))\n",
    "\n",
    "  # sns.distplot(token_lens, color='red')\n",
    "  plt.hist(token_lens, color='red', bins=50, alpha=0.5)\n",
    "  plt.xlim([0, 800]);\n",
    "  # plt.ylim([0, 0.020]);\n",
    "  plt.xlabel(\"Tokens Count\")\n",
    "  plt.ylabel(\"Frequency\")\n",
    "  plt.show();"
   ]
  },
  {
   "cell_type": "code",
   "execution_count": null,
   "metadata": {
    "colab": {
     "base_uri": "https://localhost:8080/",
     "height": 336
    },
    "id": "W3eoxrvRfQGn",
    "outputId": "22278220-329c-4db9-a913-f63f20ca405a"
   },
   "outputs": [
    {
     "data": {
      "image/png": "[encoded data removed]",
      "text/plain": [
       "<Figure size 648x360 with 1 Axes>"
      ]
     },
     "metadata": {
      "needs_background": "light"
     },
     "output_type": "display_data"
    }
   ],
   "source": [
    "# df = pd.read_csv(\"IMDB Dataset.csv\")\n",
    "\n",
    "df[\"sentiment\"].value_counts().plot(kind='barh',\n",
    "                                    color=['green','red'],\n",
    "                                    title='Distribution of Positive and Negative Reviews',\n",
    "                                    figsize=(9,5));"
   ]
  },
  {
   "cell_type": "code",
   "execution_count": null,
   "metadata": {
    "colab": {
     "base_uri": "https://localhost:8080/",
     "height": 279
    },
    "id": "m491IHjRPNIj",
    "outputId": "40240fb4-b0cd-4be5-b132-612902486ccb"
   },
   "outputs": [
    {
     "data": {
      "image/png": "[encoded data removed]",
      "text/plain": [
       "<Figure size 432x288 with 1 Axes>"
      ]
     },
     "metadata": {
      "needs_background": "light"
     },
     "output_type": "display_data"
    }
   ],
   "source": [
    "plot_tokens_count(df, colmun_name=\"review\")"
   ]
  },
  {
   "cell_type": "markdown",
   "metadata": {
    "id": "du7h0icwZ8Po"
   },
   "source": [
    "### Config"
   ]
  },
  {
   "cell_type": "code",
   "execution_count": null,
   "metadata": {
    "id": "0AkWioQrZ43r"
   },
   "outputs": [],
   "source": [
    "class Config:\n",
    "  MAX_LEN = 64\n",
    "  TRAIN_BATCH_SIZE = 8\n",
    "  VALID_BATCH_SIZE = 4\n",
    "  EPOCHS = 4\n",
    "  DEVICE = torch.device(\"cuda\" if torch.cuda.is_available() else \"cpu\")\n",
    "\n",
    "  BERT_PATH = \"bert-base-uncased\"\n",
    "  MODEL_PATH = \"BERTModel.bin\"\n",
    "  TRAINING_DATA = \"IMDB Dataset.csv\"\n",
    "\n",
    "  TOKENIZER = transformers.BertTokenizer.from_pretrained(BERT_PATH, do_lower_case = True)\n",
    "  MODEL = transformers.BertModel.from_pretrained(BERT_PATH, return_dict=False)"
   ]
  },
  {
   "cell_type": "markdown",
   "metadata": {
    "id": "-xL-ZGnOPK_a"
   },
   "source": [
    "### Dataset"
   ]
  },
  {
   "cell_type": "code",
   "execution_count": null,
   "metadata": {
    "id": "gi9ViEWtPShj"
   },
   "outputs": [],
   "source": [
    "class DataProcess:\n",
    "  def __init__(self, review):\n",
    "    self.tokenizer = Config.TOKENIZER\n",
    "    self.max_len = Config.MAX_LEN\n",
    "    self.review = review\n",
    "    \n",
    "  def preprocess_bert(self):\n",
    "    reviw = \" \".join(self.review.split())\n",
    "    inputs = self.tokenizer.encode_plus(\n",
    "        reviw,\n",
    "        None,\n",
    "        add_special_tokens=True,\n",
    "        max_length=self.max_len,\n",
    "        # padding = \"max_length\",\n",
    "        truncation=True\n",
    "        )\n",
    "\n",
    "    input_ids = inputs[\"input_ids\"]\n",
    "    attention_mask = inputs[\"attention_mask\"]\n",
    "    token_type_ids = inputs[\"token_type_ids\"]\n",
    "\n",
    "    return (\n",
    "        torch.tensor(input_ids, dtype=torch.long).unsqueeze(0),\n",
    "        torch.tensor(attention_mask, dtype=torch.long).unsqueeze(0),\n",
    "        torch.tensor(token_type_ids, dtype=torch.long).unsqueeze(0)\n",
    "        )\n",
    "    \n",
    "  def preprocess_output(self, outputs):\n",
    "    outputs = torch.sigmoid(outputs).cpu().detach().numpy()\n",
    "    return outputs[0][0]\n",
    "\n",
    "class MovieReviewDatSet:\n",
    "  def __init__(self, data_path):\n",
    "    \n",
    "    self.data = pd.read_csv(data_path).fillna('none')\n",
    "    self.data.sentiment = self.data.sentiment.apply(lambda x: 1 if x == \"positive\" else 0)\n",
    "    self.data = self.data.reset_index(drop=True)\n",
    "    self.tokenizer = Config.TOKENIZER\n",
    "    self.max_len = Config.MAX_LEN\n",
    "    self.review = self.data.review.values\n",
    "    self.label = self.data.sentiment.values\n",
    "\n",
    "  def __len__(self):\n",
    "    return len(self.review)\n",
    "\n",
    "  def __getitem__(self, item):\n",
    "    review = str(self.review[item])\n",
    "    review = \" \".join(review.split())\n",
    "\n",
    "    inputs = self.tokenizer.encode_plus(\n",
    "        review,\n",
    "        None,\n",
    "        add_special_tokens = True,\n",
    "        max_length = self.max_len,\n",
    "        padding = \"max_length\",\n",
    "        truncation= True\n",
    "    )\n",
    "\n",
    "    input_ids = inputs[\"input_ids\"]\n",
    "    attention_mask = inputs[\"attention_mask\"]\n",
    "    token_type_ids = inputs[\"token_type_ids\"]\n",
    "\n",
    "    return {\n",
    "        \"input_ids\" : torch.tensor(input_ids, dtype=torch.long),\n",
    "        \"attention_mask\" : torch.tensor(attention_mask, dtype=torch.long),\n",
    "        \"token_type_ids\" : torch.tensor(token_type_ids, dtype=torch.long),\n",
    "        \"labels\" : torch.tensor(self.label[item], dtype=torch.float)\n",
    "        }"
   ]
  },
  {
   "cell_type": "markdown",
   "metadata": {
    "id": "p68dmB8qd4Hc"
   },
   "source": [
    "### Model"
   ]
  },
  {
   "cell_type": "code",
   "execution_count": null,
   "metadata": {
    "id": "78ZGJsH9dyLu"
   },
   "outputs": [],
   "source": [
    "class BERTModel(nn.Module):\n",
    "  def __init__(self):\n",
    "    super(BERTModel, self).__init__()\n",
    "    self.bert = Config.MODEL\n",
    "    self.bert_drop = nn.Dropout(0.3)\n",
    "    self.out = nn.Linear(768, 1)\n",
    "\n",
    "  def forward(self, input_ids, attention_mask, token_type_ids):\n",
    "    _, pooled_output  = self.bert(input_ids=input_ids, attention_mask=attention_mask, token_type_ids = token_type_ids)\n",
    "    bo = self.bert_drop(pooled_output)\n",
    "    output = self.out(bo)\n",
    "    \n",
    "    return output"
   ]
  },
  {
   "cell_type": "markdown",
   "metadata": {
    "id": "BnCOgDkuaVBT"
   },
   "source": [
    "### Engine"
   ]
  },
  {
   "cell_type": "code",
   "execution_count": null,
   "metadata": {
    "id": "E4s6QHpEBRpC"
   },
   "outputs": [],
   "source": [
    "def loss_fn(outputs, labels):\n",
    "  return nn.BCEWithLogitsLoss()(outputs, labels.view(-1, 1))\n",
    "\n",
    "def train_fn(train_dataloader, model, optimizer, device, scheduler):\n",
    "  model.train()\n",
    "  final_loss = 0\n",
    "\n",
    "  fin_labels = []\n",
    "  fin_outputs = []\n",
    "  for bi, d in tqdm(enumerate(train_dataloader), total=len(train_dataloader)):\n",
    "    input_ids = d[\"input_ids\"]\n",
    "    attention_mask = d[\"attention_mask\"]\n",
    "    token_type_ids = d[\"token_type_ids\"]\n",
    "    labels = d[\"labels\"]\n",
    "\n",
    "    input_ids = input_ids.to(device, dtype=torch.long)\n",
    "    attention_mask = attention_mask.to(device, dtype=torch.long)\n",
    "    token_type_ids = token_type_ids.to(device, dtype = torch.long)\n",
    "    labels = labels.to(device, dtype = torch.float)\n",
    "\n",
    "    optimizer.zero_grad()\n",
    "    outputs = model(input_ids=input_ids, attention_mask=attention_mask, token_type_ids = token_type_ids)\n",
    "    loss = loss_fn(outputs, labels)\n",
    "    \n",
    "    final_loss += loss.item()\n",
    "    fin_labels.extend(labels.cpu().detach().numpy().tolist())\n",
    "    fin_outputs.extend(torch.sigmoid(outputs).cpu().detach().numpy().tolist())\n",
    "    \n",
    "    loss.backward()\n",
    "    optimizer.step()\n",
    "    scheduler.step()\n",
    "\n",
    "  return fin_outputs, fin_labels, final_loss/len(train_dataloader)\n",
    "\n",
    "def eval_fn(valid_dataloader, model, device):\n",
    "  model.eval()\n",
    "  final_loss = 0\n",
    "\n",
    "  fin_labels = []\n",
    "  fin_outputs = []\n",
    "  with torch.no_grad():\n",
    "    for bi, d in tqdm(enumerate(valid_dataloader), total=len(valid_dataloader)):\n",
    "      input_ids = d[\"input_ids\"]\n",
    "      attention_mask = d[\"attention_mask\"]\n",
    "      token_type_ids = d[\"token_type_ids\"]\n",
    "      labels = d[\"labels\"]\n",
    "\n",
    "      input_ids = input_ids.to(device, dtype=torch.long)\n",
    "      attention_mask = attention_mask.to(device, dtype=torch.long)\n",
    "      token_type_ids = token_type_ids.to(device, dtype = torch.long)\n",
    "      labels = labels.to(device, dtype = torch.float)\n",
    "\n",
    "      outputs = model(input_ids=input_ids, attention_mask=attention_mask, token_type_ids = token_type_ids)\n",
    "      \n",
    "      loss = loss_fn(outputs, labels)\n",
    "      final_loss += loss.item()\n",
    "      \n",
    "      fin_labels.extend(labels.cpu().detach().numpy().tolist())\n",
    "      fin_outputs.extend(torch.sigmoid(outputs).cpu().detach().numpy().tolist())\n",
    "      \n",
    "\n",
    "  return fin_outputs, fin_labels, final_loss/len(valid_dataloader)"
   ]
  },
  {
   "cell_type": "markdown",
   "metadata": {
    "id": "R9Herf-_JgFG"
   },
   "source": [
    "### **Train**"
   ]
  },
  {
   "cell_type": "code",
   "execution_count": null,
   "metadata": {
    "id": "pQaLNbXpEXdl"
   },
   "outputs": [],
   "source": [
    "dataset = MovieReviewDatSet(Config.TRAINING_DATA)\n",
    "\n",
    "train_data, valid_data = train_test_split(dataset, test_size = 0.1)\n",
    "train_dataloader = DataLoader(train_data, batch_size=Config.TRAIN_BATCH_SIZE, num_workers=4)\n",
    "valid_dataloader = DataLoader(valid_data, batch_size=Config.VALID_BATCH_SIZE, num_workers=1)\n",
    "\n",
    "model = BERTModel()\n",
    "model.to(Config.DEVICE)\n",
    "\n",
    "param_optimizer = list(model.named_parameters())\n",
    "no_decay = [\"bias\", \"LayerNorm.bias\", \"LayerNorm.weight\"]\n",
    "optimizer_parameters = [\n",
    "                        {\n",
    "                            \"params\": [\n",
    "                                       p for n, p in param_optimizer if not any(nd in n for nd in no_decay)\n",
    "                                       ],\n",
    "                         \"weight_decay\": 0.001,\n",
    "                         },\n",
    "                        {\n",
    "                            \"params\": [\n",
    "                                       p for n, p in param_optimizer if any(nd in n for nd in no_decay)\n",
    "                                       ],\n",
    "                         \"weight_decay\": 0.0,\n",
    "                         },\n",
    "                        ]\n",
    "\n",
    "num_train_steps = int(len(train_data) / Config.TRAIN_BATCH_SIZE * Config.EPOCHS)\n",
    "optimizer = AdamW(optimizer_parameters, lr=3e-5)\n",
    "scheduler = get_linear_schedule_with_warmup(\n",
    "    optimizer, num_warmup_steps=0, num_training_steps=num_train_steps\n",
    "    )\n",
    "\n",
    "history = defaultdict(list)\n",
    "\n",
    "best_accuracy = 0\n",
    "for epoch in range(1, Config.EPOCHS+1):\n",
    "  train_outputs, train_labels, train_loss = train_fn(train_dataloader, model, optimizer, Config.DEVICE, scheduler)\n",
    "  valid_outputs, valid_labels, valid_loss = eval_fn(valid_dataloader, model, Config.DEVICE)\n",
    "  \n",
    "  train_outputs = np.array(train_outputs) >= 0.5\n",
    "  valid_outputs = np.array(valid_outputs) >= 0.5\n",
    "\n",
    "  train_accuracy = metrics.accuracy_score(train_labels, train_outputs)\n",
    "  valid_accuracy = metrics.accuracy_score(valid_labels, valid_outputs)\n",
    "\n",
    "  print(f\"Epoch: {epoch}\\nTrain Loss: {train_loss} - Train Accuracy: {train_accuracy} \\nValid Loss: {valid_loss} - Valid Accuracy: {valid_accuracy}\\n\")\n",
    "  \n",
    "  history['Train Loss'].append(train_loss)\n",
    "  history['Train Accuracy'].append(train_accuracy)\n",
    "  history['Valid Loss'].append(valid_loss)\n",
    "  history['Valid Accuracy'].append(valid_accuracy)\n",
    "  \n",
    "  if valid_accuracy > best_accuracy:\n",
    "    torch.save(model.state_dict(), Config.MODEL_PATH)\n",
    "    best_accuracy = valid_accuracy"
   ]
  },
  {
   "cell_type": "markdown",
   "metadata": {
    "id": "gi4wQN77rWIN"
   },
   "source": [
    "### Error Analysis & Performance auditing"
   ]
  },
  {
   "cell_type": "code",
   "execution_count": null,
   "metadata": {
    "id": "y-LtJ10E5qGv"
   },
   "outputs": [],
   "source": [
    "def get_metrics(labels, outputs):\n",
    "  accuracy = metrics.accuracy_score(labels, outputs)\n",
    "  recall = metrics.recall_score(labels, outputs)\n",
    "  precision = metrics.precision_score(labels, outputs)\n",
    "  f1 = metrics.f1_score(labels, outputs)\n",
    "  return accuracy, recall, precision, f1"
   ]
  },
  {
   "cell_type": "code",
   "execution_count": null,
   "metadata": {
    "colab": {
     "base_uri": "https://localhost:8080/",
     "height": 697
    },
    "id": "Kq73kbX_7jBH",
    "outputId": "ef06e093-916a-440c-d851-ae1b25d58c55"
   },
   "outputs": [
    {
     "name": "stdout",
     "output_type": "stream",
     "text": [
      "======================================================================================================================================================\n",
      "\n",
      "Results summary\n",
      "\n",
      "Accuracy Score  : 0.8556\n",
      "Recall Score    : 0.8682634730538922\n",
      "Precision Score : 0.8472925594078691\n",
      "F1 Score        : 0.8576498422712935\n",
      "======================================================================================================================================================\n",
      "\n",
      "Classification report \n",
      "\n",
      "               precision    recall  f1-score   support\n",
      "\n",
      "         0.0       0.86      0.84      0.85      2495\n",
      "         1.0       0.85      0.87      0.86      2505\n",
      "\n",
      "    accuracy                           0.86      5000\n",
      "   macro avg       0.86      0.86      0.86      5000\n",
      "weighted avg       0.86      0.86      0.86      5000\n",
      "\n",
      "======================================================================================================================================================\n"
     ]
    },
    {
     "data": {
      "image/png": "[encoded data removed]",
      "text/plain": [
       "<Figure size 432x288 with 1 Axes>"
      ]
     },
     "metadata": {
      "needs_background": "light"
     },
     "output_type": "display_data"
    }
   ],
   "source": [
    "accuracy, recall, precision, f1 = get_metrics(valid_labels, valid_outputs)\n",
    "\n",
    "print(\"===\"*50)\n",
    "print(\"\\nResults summary\\n\")\n",
    "print(f\"Accuracy Score  : {accuracy}\")\n",
    "print(f\"Recall Score    : {recall}\")\n",
    "print(f\"Precision Score : {precision}\")\n",
    "print(f\"F1 Score        : {f1}\")\n",
    "\n",
    "print(\"===\"*50)\n",
    "print(\"\\nClassification report \\n\\n\", metrics.classification_report(valid_labels, valid_outputs))\n",
    "\n",
    "print(\"===\"*50)\n",
    "cm = metrics.confusion_matrix(valid_labels, valid_outputs)\n",
    "fig, ax = plt.subplots()\n",
    "sns.heatmap(cm, annot=True, fmt='d', ax=ax, cmap=plt.cm.Blues, cbar=False)\n",
    "ax.set(xlabel=\"Predicted Label\", \n",
    "       ylabel=\"True Label\", \n",
    "       xticklabels=np.unique(valid_labels), \n",
    "       yticklabels=np.unique(valid_labels), \n",
    "       title=\"CONFUSION MATRIX\")\n",
    "plt.yticks(rotation=0);"
   ]
  },
  {
   "cell_type": "code",
   "execution_count": null,
   "metadata": {
    "colab": {
     "base_uri": "https://localhost:8080/",
     "height": 295
    },
    "id": "hL6kljfpbfR8",
    "outputId": "c27a99f0-4db5-4391-acaa-bf334ad7c28b"
   },
   "outputs": [
    {
     "data": {
      "image/png": "[encoded data removed]",
      "text/plain": [
       "<Figure size 432x288 with 1 Axes>"
      ]
     },
     "metadata": {
      "needs_background": "light"
     },
     "output_type": "display_data"
    }
   ],
   "source": [
    "plt.plot(history['Train Accuracy'], '-o', label='Train Accuracy')\n",
    "plt.plot(history['Valid Accuracy'], '-o', label='Validation Accuracy')\n",
    "plt.title('Training History')\n",
    "plt.ylabel('Accuracy')\n",
    "plt.xlabel('Epoch')\n",
    "plt.legend()\n",
    "plt.ylim([0, 1]);"
   ]
  },
  {
   "cell_type": "code",
   "execution_count": null,
   "metadata": {
    "colab": {
     "base_uri": "https://localhost:8080/",
     "height": 295
    },
    "id": "cLC3AtQib4lQ",
    "outputId": "11e69950-c080-40ed-d245-21b1d2bdf5ae"
   },
   "outputs": [
    {
     "data": {
      "image/png": "[encoded data removed]",
      "text/plain": [
       "<Figure size 432x288 with 1 Axes>"
      ]
     },
     "metadata": {
      "needs_background": "light"
     },
     "output_type": "display_data"
    }
   ],
   "source": [
    "plt.plot(history['Train Loss'], '-o', label='Train Loss')\n",
    "plt.plot(history['Valid Loss'], '-o', label='Validation Loss')\n",
    "plt.title('Training History')\n",
    "plt.ylabel('Loss')\n",
    "plt.xlabel('Epoch')\n",
    "plt.legend()\n",
    "plt.ylim([0, 1]);"
   ]
  },
  {
   "cell_type": "markdown",
   "metadata": {
    "id": "eTT2RGIgbZKn"
   },
   "source": [
    "### Inference"
   ]
  },
  {
   "cell_type": "code",
   "execution_count": null,
   "metadata": {
    "id": "PN3qUp22bYLa"
   },
   "outputs": [],
   "source": [
    "model = BERTModel()\n",
    "model.to(Config.DEVICE)\n",
    "model.load_state_dict(\n",
    "    torch.load(\n",
    "        Config.MODEL_PATH,\n",
    "        map_location=torch.device(Config.DEVICE)\n",
    "        )\n",
    "    )\n",
    "\n",
    "def predict(review: str):\n",
    "  data = DataProcess(review)\n",
    "  input_ids, attention_mask, token_type_ids = data.preprocess_bert()\n",
    "  \n",
    "  input_ids = input_ids.to(Config.DEVICE, dtype=torch.long)\n",
    "  attention_mask = attention_mask.to(Config.DEVICE, dtype=torch.long)\n",
    "  token_type_ids = token_type_ids.to(Config.DEVICE, dtype=torch.long)\n",
    "  \n",
    "  outputs = model(input_ids, attention_mask, token_type_ids) \n",
    "  positive_prediction = data.preprocess_output(outputs)\n",
    "  negative_prediction = 1 - positive_prediction\n",
    "  \n",
    "  return {\n",
    "      \"review\": review,\n",
    "      \"positive\": str(positive_prediction),\n",
    "      \"negative\": str(negative_prediction),\n",
    "  }"
   ]
  },
  {
   "cell_type": "code",
   "execution_count": null,
   "metadata": {
    "colab": {
     "base_uri": "https://localhost:8080/"
    },
    "id": "CwgblZ27KcaN",
    "outputId": "e53c9fee-a9b9-4743-c3bd-a9d5b7ca32a6"
   },
   "outputs": [
    {
     "name": "stdout",
     "output_type": "stream",
     "text": [
      "{'review': 'I like this amazing movie', 'positive': '0.9976132', 'negative': '0.002386808395385742'}\n"
     ]
    }
   ],
   "source": [
    "sentiment = predict(\"I like this amazing movie\")\n",
    "print(sentiment)"
   ]
  },
  {
   "cell_type": "code",
   "execution_count": null,
   "metadata": {
    "id": "IWmmV5PZ0HIf"
   },
   "outputs": [],
   "source": []
  }
 ],
 "metadata": {
  "accelerator": "GPU",
  "colab": {
   "include_colab_link": true,
   "machine_shape": "hm",
   "provenance": []
  },
  "kernelspec": {
   "display_name": "Python 3 (ipykernel)",
   "language": "python",
   "name": "python3"
  },
  "language_info": {
   "codemirror_mode": {
    "name": "ipython",
    "version": 3
   },
   "file_extension": ".py",
   "mimetype": "text/x-python",
   "name": "python",
   "nbconvert_exporter": "python",
   "pygments_lexer": "ipython3",
   "version": "3.11.5"
  }
 },
 "nbformat": 4,
 "nbformat_minor": 1
}
